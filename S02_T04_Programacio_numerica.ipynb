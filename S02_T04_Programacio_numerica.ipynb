{
 "cells": [
  {
   "cell_type": "markdown",
   "id": "2a5fd63e",
   "metadata": {},
   "source": [
    "## Exercici 1"
   ]
  },
  {
   "cell_type": "code",
   "execution_count": 11,
   "id": "60881aa3",
   "metadata": {},
   "outputs": [
    {
     "data": {
      "text/plain": [
       "('Mean:',\n",
       " 3.75,\n",
       " 'Mode:',\n",
       " ModeResult(mode=array([5]), count=array([2])),\n",
       " 'Median:',\n",
       " 4.0,\n",
       " 'Standard deviation:',\n",
       " 1.299038105676658)"
      ]
     },
     "execution_count": 11,
     "metadata": {},
     "output_type": "execute_result"
    }
   ],
   "source": [
    "import numpy as np\n",
    "from scipy import stats\n",
    "def statistical_function (numbers):\n",
    "    if len(numbers.shape) < 2:\n",
    "        mean = np.mean(numbers) \n",
    "        median = np.median(numbers)\n",
    "        mode = stats.mode(numbers)\n",
    "        std = np.std(numbers)\n",
    "        data = (\"Mean:\", mean, \"Mode:\", mode,\n",
    "               \"Median:\", median, \"Standard deviation:\", std)\n",
    "        return  data\n",
    "    else:\n",
    "        return print (\"Error\")\n",
    "    \n",
    "numbers = np.array([3, 2, 5, 5]) \n",
    "statistical_function(numbers)\n",
    "        "
   ]
  },
  {
   "cell_type": "markdown",
   "id": "c1e62a28",
   "metadata": {},
   "source": [
    "## Exercici 2"
   ]
  },
  {
   "cell_type": "code",
   "execution_count": 28,
   "id": "1a94fa1e",
   "metadata": {},
   "outputs": [
    {
     "name": "stdout",
     "output_type": "stream",
     "text": [
      "Enter 1st number: 5\n",
      "Enter 2nd number: 1\n"
     ]
    },
    {
     "data": {
      "text/plain": [
       "array([[ 2],\n",
       "       [17],\n",
       "       [54],\n",
       "       [86],\n",
       "       [73]])"
      ]
     },
     "execution_count": 28,
     "metadata": {},
     "output_type": "execute_result"
    }
   ],
   "source": [
    "from numpy import random\n",
    "def matrixN(n1,n2):\n",
    "    arr = random.randint(0, 100, size=(n1, n2))\n",
    "    return arr\n",
    "\n",
    "n1 = int(input(\"Enter 1st number: \"))\n",
    "n2 = int(input(\"Enter 2nd number: \"))\n",
    "\n",
    "matrixN(n1,n2)"
   ]
  },
  {
   "cell_type": "markdown",
   "id": "d73a5c02",
   "metadata": {},
   "source": [
    "## Exercici 3"
   ]
  },
  {
   "cell_type": "code",
   "execution_count": 39,
   "id": "616d4f53",
   "metadata": {},
   "outputs": [
    {
     "name": "stdout",
     "output_type": "stream",
     "text": [
      "[[47  6]\n",
      " [15 39]]\n"
     ]
    },
    {
     "data": {
      "text/plain": [
       "('Colum', array([62, 45]), 'row', array([53, 54]))"
      ]
     },
     "execution_count": 39,
     "metadata": {},
     "output_type": "execute_result"
    }
   ],
   "source": [
    "def matrixSum(arr):\n",
    "    sumColum = arr.sum(axis=0)\n",
    "    sumRow = arr.sum(axis=1)\n",
    "    return \"Colum\", sumColum, \"row\",sumRow\n",
    "\n",
    "arr = random.randint(0, 100, size=(2, 2))\n",
    "print (arr)\n",
    "matrixSum(arr)"
   ]
  },
  {
   "cell_type": "markdown",
   "id": "f911d2a1",
   "metadata": {},
   "source": [
    "## Exercici 4"
   ]
  },
  {
   "cell_type": "code",
   "execution_count": 64,
   "id": "433861f7",
   "metadata": {},
   "outputs": [
    {
     "data": {
      "text/plain": [
       "('Correlation of a anb b is:', array([8.5]))"
      ]
     },
     "execution_count": 64,
     "metadata": {},
     "output_type": "execute_result"
    }
   ],
   "source": [
    "import numpy as geek \n",
    "def correl(a,b):\n",
    "    correl = geek.correlate(a,b)    \n",
    "    return \"Correlation of a anb b is:\", correl\n",
    "\n",
    "a = [2, 5, 7]\n",
    "b = [0, 1, 0.5]\n",
    "correl(a,b)"
   ]
  }
 ],
 "metadata": {
  "kernelspec": {
   "display_name": "Python 3 (ipykernel)",
   "language": "python",
   "name": "python3"
  },
  "language_info": {
   "codemirror_mode": {
    "name": "ipython",
    "version": 3
   },
   "file_extension": ".py",
   "mimetype": "text/x-python",
   "name": "python",
   "nbconvert_exporter": "python",
   "pygments_lexer": "ipython3",
   "version": "3.9.7"
  }
 },
 "nbformat": 4,
 "nbformat_minor": 5
}
